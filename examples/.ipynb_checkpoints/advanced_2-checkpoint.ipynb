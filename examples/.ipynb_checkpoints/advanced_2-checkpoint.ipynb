{
 "cells": [
  {
   "cell_type": "code",
   "execution_count": 12,
   "metadata": {},
   "outputs": [
    {
     "ename": "ERROR",
     "evalue": "reflect.Value.Convert: value of type func(reflect.Value) cannot be converted to type func(chan struct {})",
     "output_type": "error",
     "traceback": [
      "reflect.Value.Convert: value of type func(reflect.Value) cannot be converted to type func(chan struct {})"
     ]
    }
   ],
   "source": [
    "import (\n",
    "    \"fmt\"\n",
    "    \"time\"\n",
    "\n",
    "    \"github.com/nornir-automation/gornir/pkg/gornir\"\n",
    "    \"github.com/nornir-automation/gornir/pkg/plugins/inventory\"\n",
    "    \"github.com/nornir-automation/gornir/pkg/plugins/logger\"\n",
    "    \"github.com/nornir-automation/gornir/pkg/plugins/runner\"\n",
    "    \"github.com/nornir-automation/gornir/pkg/plugins/task\"\n",
    ")\n",
    "\n",
    "logger := logger.NewLogrus(false)\n",
    "\n",
    "inventory, err := inventory.FromYAMLFile(\"hosts.yaml\")\n",
    "if err != nil {\n",
    "    logger.Fatal(err)\n",
    "}\n",
    "\n",
    "gr := &gornir.Gornir{\n",
    "    Inventory: inventory,\n",
    "    Logger:    logger,\n",
    "}\n",
    "\n",
    "results := make(chan *gornir.JobResult, len(gr.Inventory.Hosts))\n",
    "\n",
    "rnr := runner.Sequence()\n",
    "err = gr.RunA(\n",
    "    \"What's my hostname?\",\n",
    "    rnr,\n",
    "    &task.RemoteCommand{Command: \"hostname\"},\n",
    "    results,\n",
    ")\n",
    "if err != nil {\n",
    "    logger.Fatal(err)\n",
    "}\n",
    "\n",
    "c := make(chan struct{})\n",
    "go func() {\n",
    "    defer close(c)\n",
    "    defer close(results)\n",
    "    _ = rnr.Wait()\n",
    "    c <- struct{}{}\n",
    "}()\n",
    "\n",
    "for {\n",
    "    select {\n",
    "    case res := <-results:\n",
    "        fmt.Println(res)\n",
    "    case <-c:\n",
    "        break\n",
    "    case <-time.After(time.Second * 10):\n",
    "        break\n",
    "    }\n",
    "}"
   ]
  },
  {
   "cell_type": "code",
   "execution_count": null,
   "metadata": {},
   "outputs": [],
   "source": []
  }
 ],
 "metadata": {
  "kernelspec": {
   "display_name": "Go",
   "language": "go",
   "name": "gophernotes"
  },
  "language_info": {
   "codemirror_mode": "",
   "file_extension": ".go",
   "mimetype": "",
   "name": "go",
   "nbconvert_exporter": "",
   "pygments_lexer": "",
   "version": "go1.11.4"
  }
 },
 "nbformat": 4,
 "nbformat_minor": 2
}
