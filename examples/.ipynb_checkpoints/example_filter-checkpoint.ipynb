{
 "cells": [
  {
   "cell_type": "code",
   "execution_count": 1,
   "metadata": {},
   "outputs": [
    {
     "ename": "ERROR",
     "evalue": "reflect.Value.Convert: value of type string cannot be converted to type error",
     "output_type": "error",
     "traceback": [
      "reflect.Value.Convert: value of type string cannot be converted to type error"
     ]
    }
   ],
   "source": [
    "import (\n",
    "    \"fmt\"\n",
    "    \"os\"\n",
    "\n",
    "    \"github.com/nornir-automation/gornir/pkg/gornir\"\n",
    "    \"github.com/nornir-automation/gornir/pkg/plugins/inventory\"\n",
    "    \"github.com/nornir-automation/gornir/pkg/plugins/logger\"\n",
    "    \"github.com/nornir-automation/gornir/pkg/plugins/output\"\n",
    "    \"github.com/nornir-automation/gornir/pkg/plugins/runner\"\n",
    "    \"github.com/nornir-automation/gornir/pkg/plugins/task\"\n",
    ")\n",
    "\n",
    "logger := logger.NewLogrus(true)\n",
    "\n",
    "inventory, err := inventory.FromYAMLFile(\"hosts.yaml\")\n",
    "if err != nil {\n",
    "    logger.Fatal(err)\n",
    "}\n",
    "\n",
    "gr := &gornir.Gornir{\n",
    "    Inventory: inventory,\n",
    "    Logger:    logger,\n",
    "}\n",
    "\n",
    "\n",
    "filter := func(gr *gornir.Gornir, h *gornir.Host) bool {\n",
    "    return h.Hostname == \"dev1.group_1\" || h.Hostname == \"dev4.group_2\"\n",
    "}\n",
    "\n",
    "results, err := gr.Filter(filter).RunS(\n",
    "    \"What's my hostname?\",\n",
    "    runner.Sorted(),\n",
    "    &task.RemoteCommand{Command: \"hostname\"},\n",
    ")\n",
    "if err != nil {\n",
    "    logger.Fatal(err)\n",
    "}\n",
    "\n",
    "output.RenderResults(os.Stdout, results, true)"
   ]
  },
  {
   "cell_type": "code",
   "execution_count": null,
   "metadata": {},
   "outputs": [],
   "source": []
  }
 ],
 "metadata": {
  "kernelspec": {
   "display_name": "Go",
   "language": "go",
   "name": "gophernotes"
  },
  "language_info": {
   "codemirror_mode": "",
   "file_extension": ".go",
   "mimetype": "",
   "name": "go",
   "nbconvert_exporter": "",
   "pygments_lexer": "",
   "version": "go1.11.4"
  }
 },
 "nbformat": 4,
 "nbformat_minor": 2
}
