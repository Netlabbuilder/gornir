{
 "cells": [
  {
   "cell_type": "code",
   "execution_count": 2,
   "metadata": {},
   "outputs": [
    {
     "name": "stdout",
     "output_type": "stream",
     "text": [
      "\u001b[34m# What's my ip?\n",
      "\u001b[0m\u001b[32m@ dev1.group_1\n",
      "\u001b[0m * Stdout: 10.21.33.101/24\n",
      "\n",
      " * Stderr: \n",
      "  - err: <nil>\n",
      "\n",
      "\u001b[32m@ dev2.group_1\n",
      "\u001b[0m * Stdout: 10.21.33.102/24\n",
      "\n",
      " * Stderr: \n",
      "  - err: <nil>\n",
      "\n",
      "\u001b[32m@ dev3.group_2\n",
      "\u001b[0m * Stdout: 10.21.33.103/24\n",
      "\n",
      " * Stderr: \n",
      "  - err: <nil>\n",
      "\n",
      "\u001b[32m@ dev4.group_2\n",
      "\u001b[0m * Stdout: 10.21.33.104/24\n",
      "\n",
      " * Stderr: \n",
      "  - err: <nil>\n",
      "\n",
      "\u001b[31m@ dev5.no_group\n",
      "\u001b[0m  - err: failed to dial: ssh: handshake failed: ssh: unable to authenticate, attempted methods [none password], no supported methods remain\n",
      "\n"
     ]
    }
   ],
   "source": [
    "import (\n",
    "    \"os\"\n",
    "\n",
    "    \"github.com/nornir-automation/gornir/pkg/gornir\"\n",
    "    \"github.com/nornir-automation/gornir/pkg/plugins/inventory\"\n",
    "    \"github.com/nornir-automation/gornir/pkg/plugins/logger\"\n",
    "    \"github.com/nornir-automation/gornir/pkg/plugins/output\"\n",
    "    \"github.com/nornir-automation/gornir/pkg/plugins/runner\"\n",
    "    \"github.com/nornir-automation/gornir/pkg/plugins/task\"\n",
    ")\n",
    "\n",
    "logger := logger.NewLogrus(false)\n",
    "\n",
    "inventory, err := inventory.FromYAMLFile(\"hosts.yaml\")\n",
    "if err != nil {\n",
    "    logger.Fatal(err)\n",
    "}\n",
    "\n",
    "gr := &gornir.Gornir{\n",
    "    Inventory: inventory,\n",
    "    Logger:    logger,\n",
    "}\n",
    "\n",
    "results, err := gr.RunS(\n",
    "    \"What's my ip?\",\n",
    "    runner.Sorted(),\n",
    "    &task.RemoteCommand{Command: \"ip addr | grep \\\\/24 | awk '{ print $2 }'\"},\n",
    ")\n",
    "if err != nil {\n",
    "    logger.Fatal(err)\n",
    "}\n",
    "\n",
    "output.RenderResults(os.Stdout, results, true)"
   ]
  },
  {
   "cell_type": "code",
   "execution_count": null,
   "metadata": {},
   "outputs": [],
   "source": []
  }
 ],
 "metadata": {
  "kernelspec": {
   "display_name": "Go",
   "language": "go",
   "name": "gophernotes"
  },
  "language_info": {
   "codemirror_mode": "",
   "file_extension": ".go",
   "mimetype": "",
   "name": "go",
   "nbconvert_exporter": "",
   "pygments_lexer": "",
   "version": "go1.11.4"
  }
 },
 "nbformat": 4,
 "nbformat_minor": 2
}
